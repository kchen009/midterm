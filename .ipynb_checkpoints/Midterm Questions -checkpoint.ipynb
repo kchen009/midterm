{
 "cells": [
  {
   "cell_type": "markdown",
   "metadata": {},
   "source": [
    "### Make your own 1/2 final exam. Write an exam in an ipython notebook that has\n",
    "\n",
    "* Submit 8 multiple choice concept questions\n",
    "* Submit 7 true-false choice\n",
    "* 5 Short-answer Data Camp-Style Notebook questions\n",
    "* Provide 1 Task on Data Set Mini\n"
   ]
  },
  {
   "cell_type": "markdown",
   "metadata": {},
   "source": [
    "### Multiple-Choice Concept Questions:\n"
   ]
  },
  {
   "cell_type": "markdown",
   "metadata": {},
   "source": [
    "Q1. Data Structure/Data Type Topic  "
   ]
  },
  {
   "cell_type": "markdown",
   "metadata": {},
   "source": [
    "Q2. Prob-stats/data wrangling/web scraping question"
   ]
  },
  {
   "cell_type": "markdown",
   "metadata": {},
   "source": [
    "Q3. EDA/Visualization Question "
   ]
  },
  {
   "cell_type": "markdown",
   "metadata": {},
   "source": [
    "Q4. The process of converting an existing times-series to a higher time frequency--which requires filling or interpolating missing data of the new time-series--is known as:\n",
    "* (a) Downsampling\n",
    "* (b) Upsampling\n",
    "* (c) Resampling\n",
    "* (d) Oversampling"
   ]
  },
  {
   "cell_type": "markdown",
   "metadata": {},
   "source": [
    "Q5. Regression/images Question"
   ]
  },
  {
   "cell_type": "markdown",
   "metadata": {},
   "source": [
    "Q6. Reducing dimension/NLP Question"
   ]
  },
  {
   "cell_type": "markdown",
   "metadata": {},
   "source": [
    "Q7. Supervised Learning "
   ]
  },
  {
   "cell_type": "markdown",
   "metadata": {},
   "source": [
    "Q8. Unsupervised Learning "
   ]
  },
  {
   "cell_type": "markdown",
   "metadata": {},
   "source": [
    "### True-False Questions"
   ]
  },
  {
   "cell_type": "markdown",
   "metadata": {},
   "source": [
    "Q1. A set is a mutable data type \n",
    "* True (correct) \n",
    "* False"
   ]
  },
  {
   "cell_type": "markdown",
   "metadata": {},
   "source": [
    "Q2. Prob-stats/data wrangling/web scraping question"
   ]
  },
  {
   "cell_type": "markdown",
   "metadata": {},
   "source": [
    "Q3. EDA/Visualization Question "
   ]
  },
  {
   "cell_type": "markdown",
   "metadata": {},
   "source": [
    "Q4. Time-series question"
   ]
  },
  {
   "cell_type": "markdown",
   "metadata": {},
   "source": [
    "Q5. Geodata"
   ]
  },
  {
   "cell_type": "markdown",
   "metadata": {},
   "source": [
    "Q6. Supervised Learning Question"
   ]
  },
  {
   "cell_type": "markdown",
   "metadata": {},
   "source": [
    "Q7. Unsupervised Learning Question"
   ]
  },
  {
   "cell_type": "markdown",
   "metadata": {},
   "source": [
    "### Short Answer Question "
   ]
  },
  {
   "cell_type": "code",
   "execution_count": null,
   "metadata": {},
   "outputs": [],
   "source": [
    "# Import what we need\n",
    "import numpy as np\n",
    "import pandas as pd\n",
    "from matplotlib import pyplot as plt\n",
    "import matplotlib as mpl\n",
    "plt.style.use('ggplot')\n",
    "mpl.rcParams['figure.figsize'] = (10, 6)\n",
    "\n",
    "#Part 1 \n",
    "# Generate a random walk of for stock prices\n",
    "# Stock prices are typically positive and increase\n",
    "# and decrease in terms of percent growth (returns)\n",
    "# We will create a random walk of returns\n",
    "# and turn that into prices\n",
    "# and then plot\n",
    "num_samples = 100\n",
    "sigma = 0.05\n",
    "mu = 0.01\n",
    "seed = 42\n",
    "# Part 1, seed the numpy random number generateor with the seed\n",
    "np.random.seed(seed)\n",
    "\n",
    "# Part 2\n",
    "# create a sequence of num_samples in length picked\n",
    "# from a normal distrubution with mean mu and standerd deviation sigma\n",
    "deltas = np.random.randn(num_samples)*sigma + mu\n",
    "\n",
    "# Part 3\n",
    "# create log_return series as a random walk \n",
    "# of the deltas starting at 0 where\n",
    "# each of the deltas is our next step\n",
    "log_returns = deltas.cumsum()\n",
    "\n",
    "# Part 3\n",
    "# create log_return series as a random walk \n",
    "# of the deltas starting at 0 where\n",
    "# each of the deltas is our next step\n",
    "log_returns = deltas.cumsum()\n",
    "\n",
    "# Part 4\n",
    "# We exponentiate (raise \"10\" to the power of\n",
    "# log_returns) our log_returns to create returns\n",
    "# and use them to discount the starting price to get our\n",
    "# prices\n",
    "start = 100\n",
    "prices = start*(10**(log_returns))\n",
    "\n",
    "#Part 5\n",
    "# Lets greate a pandas sequence of dates\n",
    "# from jan 2, 2025 on business days\n",
    "# for each of our prices\n",
    "dates = pd.date_range(start='2025-1-2',periods=len(prices),freq='B')\n",
    "\n",
    "#Part 6\n",
    "# lets make a pandas data frame with 'date' column and a column\n",
    "# of 'price' (by makeing a dictionary)\n",
    "\n",
    "df = pd.DataFrame({'date':dates, 'price':prices})\n",
    "\n",
    "#Part 7\n",
    "#set the index to the 'date' column\n",
    "df.set_index(['date'])\n",
    "\n",
    "#Part 8\n",
    "# print the first 10 columns\n",
    "df.head()\n",
    "\n",
    "#part 9\n",
    "#use the build in lineplot within pandas\n",
    "# to plot the date vs the price\n",
    "_ = df.plot.line(x='date',y='price')"
   ]
  },
  {
   "cell_type": "markdown",
   "metadata": {},
   "source": [
    "1) Probability-stats simulation - using numpy"
   ]
  },
  {
   "cell_type": "code",
   "execution_count": null,
   "metadata": {},
   "outputs": [],
   "source": []
  },
  {
   "cell_type": "markdown",
   "metadata": {},
   "source": [
    "2) Importing data from the web and data cleaning "
   ]
  },
  {
   "cell_type": "code",
   "execution_count": null,
   "metadata": {},
   "outputs": [],
   "source": []
  },
  {
   "cell_type": "markdown",
   "metadata": {},
   "source": [
    "3) EDA and visualization"
   ]
  },
  {
   "cell_type": "code",
   "execution_count": null,
   "metadata": {},
   "outputs": [],
   "source": []
  },
  {
   "cell_type": "markdown",
   "metadata": {},
   "source": [
    "3) Time-series exercise"
   ]
  },
  {
   "cell_type": "code",
   "execution_count": 5,
   "metadata": {},
   "outputs": [],
   "source": [
    "#Part 1: import pandas, numpy and matplotlib.pyplot\n",
    "import pandas as pd\n",
    "import numpy as np\n",
    "import matplotlib as mpl\n",
    "import matplotlib.pyplot as plt\n",
    "mpl.style.use('ggplot')\n",
    "%matplotlib inline \n",
    "\n",
    "#Part 2: read and store dataset as pandas dataframe. inspect the number values associated with columns.\n",
    "\n",
    "\n",
    "#part 3: \n"
   ]
  },
  {
   "cell_type": "markdown",
   "metadata": {},
   "source": [
    "4) Simple Linear Regression"
   ]
  },
  {
   "cell_type": "code",
   "execution_count": null,
   "metadata": {},
   "outputs": [],
   "source": []
  },
  {
   "cell_type": "markdown",
   "metadata": {},
   "source": [
    "5) Bayes theorem"
   ]
  },
  {
   "cell_type": "code",
   "execution_count": null,
   "metadata": {},
   "outputs": [],
   "source": []
  },
  {
   "cell_type": "markdown",
   "metadata": {},
   "source": [
    "## Mini-Data Set Question\n",
    "\n",
    "-Supervised or Unsupervised Learning: get ideas from DataCamp and import a dataset from sklearn."
   ]
  },
  {
   "cell_type": "code",
   "execution_count": null,
   "metadata": {},
   "outputs": [],
   "source": []
  }
 ],
 "metadata": {
  "kernelspec": {
   "display_name": "Python 3",
   "language": "python",
   "name": "python3"
  },
  "language_info": {
   "codemirror_mode": {
    "name": "ipython",
    "version": 3
   },
   "file_extension": ".py",
   "mimetype": "text/x-python",
   "name": "python",
   "nbconvert_exporter": "python",
   "pygments_lexer": "ipython3",
   "version": "3.6.4"
  }
 },
 "nbformat": 4,
 "nbformat_minor": 2
}
