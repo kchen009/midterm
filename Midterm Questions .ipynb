{
 "cells": [
  {
   "cell_type": "markdown",
   "metadata": {},
   "source": [
    "### Multiple-Choice Concept Questions (8):\n"
   ]
  },
  {
   "cell_type": "markdown",
   "metadata": {},
   "source": [
    "Q1. \"Data Science\" is best illustrated by the famous Data Science venn diagram, highlighting cross-disciplinary nature of the field. Which of these is *not* one of the three disciplines mentioned in the venn diagram? \n",
    "\n",
    "- (a) Social Science\n",
    "- (b) Substantive Expertise\n",
    "- (c) Hacking Skills\n",
    "- (d) Math & Statistics Knowledge"
   ]
  },
  {
   "cell_type": "markdown",
   "metadata": {},
   "source": [
    "Q2. The standard implementation of Python is written in:\n",
    "- (a) Java\n",
    "- (b) Lisp\n",
    "- (c) C\n",
    "- (d) Pearl"
   ]
  },
  {
   "cell_type": "markdown",
   "metadata": {},
   "source": [
    "Q3. Which of following statistic is *not* of part of the five-number summary statistics?\n",
    "- (a) Mean\n",
    "- (b) Median\n",
    "- (c) Max\n",
    "- (d) First Quartile"
   ]
  },
  {
   "cell_type": "markdown",
   "metadata": {},
   "source": [
    "Q4. The process of converting an existing times-series to a higher time frequency--which requires filling or interpolating missing data of the new time-series--is known as:\n",
    "* (a) Downsampling\n",
    "* (b) Upsampling\n",
    "* (c) Resampling\n",
    "* (d) Oversampling"
   ]
  },
  {
   "cell_type": "markdown",
   "metadata": {},
   "source": [
    "Q5. Which of the following was *not* one of reasons stressed by Dr. Grossberg to learn Linear Regression. \n",
    "* (a) It's a common language: almost everyone knows it.\n",
    "* (b) Can build non-linear regression on top of linear regression.\n",
    "* (c) Often works pretty darn well.\n",
    "* (d) Your boss will probabily give you a raise for knowing it."
   ]
  },
  {
   "cell_type": "markdown",
   "metadata": {},
   "source": [
    "Q6. Event A and B are dependent if:\n",
    "* (a) The probability of A given B is probability of A.\n",
    "* (b) The joint probability of A and B is the product of the probabilities that each event happens.\n",
    "* (c) the probability of B occuring affects the probability of A occuring, and vice versa.\n",
    "* (d) If the probability of A is greater than the probability of B."
   ]
  },
  {
   "cell_type": "markdown",
   "metadata": {},
   "source": [
    "Q7. Models that predict labels as discrete categories is known as which type of machine learning problem?\n",
    "* (a) Regression\n",
    "* (b) Classification\n",
    "* (c) Clustering\n",
    "* (d) Dimensionality Reduction "
   ]
  },
  {
   "cell_type": "markdown",
   "metadata": {},
   "source": [
    "Q8. Which of the following is *not* computed from a confusion matrix?\n",
    "* (a) Accuracy\n",
    "* (b) Bias \n",
    "* (c) True Negative Rate \n",
    "* (d) Precision"
   ]
  },
  {
   "cell_type": "markdown",
   "metadata": {},
   "source": [
    "Answers to Multiple Choice questions:\n",
    "- Q1) a\n",
    "- Q2) c\n",
    "- Q3) a\n",
    "- Q4) b\n",
    "- Q5) d\n",
    "- Q6) c\n",
    "- Q7) b\n",
    "- Q8) b"
   ]
  },
  {
   "cell_type": "markdown",
   "metadata": {},
   "source": [
    "### True-False Questions (7)"
   ]
  },
  {
   "cell_type": "markdown",
   "metadata": {},
   "source": [
    "Q1. A set is a immutable data type \n"
   ]
  },
  {
   "cell_type": "markdown",
   "metadata": {},
   "source": [
    "Q2. There are two primary means of using IPython: the shell and notebook. \n"
   ]
  },
  {
   "cell_type": "markdown",
   "metadata": {},
   "source": [
    "Q3. One notable difference between a Python list and NumPy array is that slicing a list gives returns a copy, whereas slicing an array returns a view:\n"
   ]
  },
  {
   "cell_type": "markdown",
   "metadata": {},
   "source": [
    "Q4. You can access the source code of an object in Python with a single question mark (?)\n",
    "\n"
   ]
  },
  {
   "cell_type": "markdown",
   "metadata": {},
   "source": [
    "Q5. Resampling a time-series dataframe or series does not require setting the datetime as the index."
   ]
  },
  {
   "cell_type": "markdown",
   "metadata": {},
   "source": [
    "Q6. One of the reasons for splitting your data into a training and test set is so that you can evaluate your model's ability to predict new or unseen data.\n"
   ]
  },
  {
   "cell_type": "markdown",
   "metadata": {},
   "source": [
    "Q7. Inferring labels on unlabeled data is known as unsupervised learning."
   ]
  },
  {
   "cell_type": "markdown",
   "metadata": {},
   "source": [
    "Answers to True-False Questions\n",
    "- Q1) False; a set is mutable.\n",
    "- Q2) True\n",
    "- Q3) True\n",
    "- Q4) False, double question mark returns the source code\n",
    "- Q5) False, resampling does requires a datetimeindex\n",
    "- Q6) True\n",
    "- Q7) True"
   ]
  },
  {
   "cell_type": "markdown",
   "metadata": {},
   "source": [
    "### Short Answer Datacamp-style Question (5)"
   ]
  },
  {
   "cell_type": "markdown",
   "metadata": {},
   "source": [
    "1) Probability-stats (shuffling) - using numpy"
   ]
  },
  {
   "cell_type": "code",
   "execution_count": null,
   "metadata": {},
   "outputs": [],
   "source": []
  },
  {
   "cell_type": "markdown",
   "metadata": {},
   "source": [
    "2) Importing data from the web and cleaning it"
   ]
  },
  {
   "cell_type": "code",
   "execution_count": null,
   "metadata": {},
   "outputs": [],
   "source": []
  },
  {
   "cell_type": "markdown",
   "metadata": {},
   "source": [
    "3) EDA and visualization"
   ]
  },
  {
   "cell_type": "code",
   "execution_count": null,
   "metadata": {},
   "outputs": [],
   "source": []
  },
  {
   "cell_type": "markdown",
   "metadata": {},
   "source": [
    "3) Time-series exercise"
   ]
  },
  {
   "cell_type": "code",
   "execution_count": 7,
   "metadata": {},
   "outputs": [],
   "source": [
    "#Part 1: import pandas, numpy and matplotlib.pyplot\n",
    "import pandas as pd\n",
    "import numpy as np\n",
    "import matplotlib.pyplot as plt\n",
    "plt.style.use('ggplot')\n",
    "%matplotlib inline \n"
   ]
  },
  {
   "cell_type": "markdown",
   "metadata": {},
   "source": [
    "4) Linear Regression"
   ]
  },
  {
   "cell_type": "code",
   "execution_count": null,
   "metadata": {},
   "outputs": [],
   "source": []
  },
  {
   "cell_type": "markdown",
   "metadata": {},
   "source": [
    "5)"
   ]
  },
  {
   "cell_type": "markdown",
   "metadata": {},
   "source": [
    "## Mini-Data Set Question\n",
    "\n",
    "-Supervised Learning example using scikit-learn data"
   ]
  },
  {
   "cell_type": "code",
   "execution_count": null,
   "metadata": {},
   "outputs": [],
   "source": []
  }
 ],
 "metadata": {
  "kernelspec": {
   "display_name": "Python 3",
   "language": "python",
   "name": "python3"
  },
  "language_info": {
   "codemirror_mode": {
    "name": "ipython",
    "version": 3
   },
   "file_extension": ".py",
   "mimetype": "text/x-python",
   "name": "python",
   "nbconvert_exporter": "python",
   "pygments_lexer": "ipython3",
   "version": "3.6.4"
  }
 },
 "nbformat": 4,
 "nbformat_minor": 2
}
